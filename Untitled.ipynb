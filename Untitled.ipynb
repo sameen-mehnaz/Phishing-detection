{
 "cells": [
  {
   "cell_type": "code",
   "execution_count": null,
   "id": "b34ad415-f3ca-427a-919b-8cd842a631da",
   "metadata": {},
   "outputs": [],
   "source": [
    "import pandas as pd\n",
    "\n",
    "# Load the dataset\n",
    "try:\n",
    "    phish_data = pd.read_csv('phishing_site_urls.csv')\n",
    "    print(\"CSV loaded successfully!\")\n",
    "    print(phish_data.head())  # Show first 5 rows\n",
    "    print(phish_data.info())  # Check dataset structure\n",
    "except Exception as e:\n",
    "    print(f\"Error loading CSV: {e}\")\n"
   ]
  },
  {
   "cell_type": "code",
   "execution_count": null,
   "id": "95ed4461-fac5-4852-b059-3be7d8b8cec6",
   "metadata": {},
   "outputs": [],
   "source": [
    "import pandas as pd\n",
    "\n",
    "# Load the dataset\n",
    "phish_data = pd.read_csv('C:/phishing 2/phishing_site_urls.csv')\n",
    "\n",
    "# Check the first few rows of the dataset\n",
    "print(phish_data.head())\n",
    "\n"
   ]
  },
  {
   "cell_type": "code",
   "execution_count": null,
   "id": "0d0de306-eed6-4f96-9815-be8f2dddbe37",
   "metadata": {},
   "outputs": [],
   "source": [
    "from sklearn.model_selection import train_test_split\n",
    "from sklearn.linear_model import LogisticRegression\n",
    "from sklearn.feature_extraction.text import CountVectorizer\n",
    "\n",
    "# Example: Splitting the data into features and labels\n",
    "X = phish_data['URL']  # Features (URL column)\n",
    "y = phish_data['Label']  # Target (Label column)\n",
    "\n",
    "# Split the dataset\n",
    "X_train, X_test, y_train, y_test = train_test_split(X, y, test_size=0.2, random_state=42)\n",
    "\n",
    "# Verify the split\n",
    "print(f\"Training set size: {len(X_train)}\")\n",
    "print(f\"Test set size: {len(X_test)}\")\n",
    "\n",
    "# Vectorize the URLs using CountVectorizer\n",
    "vectorizer = CountVectorizer(max_features=5000)  # Limit to top 5000 features for simplicity\n",
    "X_train_count = vectorizer.fit_transform(X_train)\n",
    "X_test_count = vectorizer.transform(X_test)\n",
    "\n",
    "# Check shape of transformed data to verify it\n",
    "print(f\"Shape of X_train_count: {X_train_count.shape}\")\n",
    "print(f\"Shape of X_test_count: {X_test_count.shape}\")\n",
    "\n",
    "# Example: Logistic Regression model\n",
    "lr = LogisticRegression(max_iter=1000)  # Increased iterations if needed\n",
    "\n",
    "# Train the model and print progress\n",
    "print(\"Training the model...\")\n",
    "lr.fit(X_train_count, y_train)\n",
    "\n",
    "# Checking the accuracy\n",
    "accuracy = lr.score(X_test_count, y_test)\n",
    "print(f\"Test Accuracy: {accuracy}\")\n"
   ]
  },
  {
   "cell_type": "code",
   "execution_count": null,
   "id": "52564971-74bd-4980-833d-927cbe92b4c8",
   "metadata": {},
   "outputs": [],
   "source": [
    "from sklearn.metrics import classification_report\n",
    "\n",
    "# Predicting on the test set\n",
    "y_pred = lr.predict(X_test_count)\n",
    "\n",
    "# Generating classification report\n",
    "print(classification_report(y_test, y_pred))\n"
   ]
  },
  {
   "cell_type": "code",
   "execution_count": null,
   "id": "350052cf-f182-4128-a87f-48ee12e4daf9",
   "metadata": {},
   "outputs": [],
   "source": [
    "print(\"Shape of X:\", X.shape)\n",
    "print(\"Shape of y:\", y.shape)\n",
    "\n"
   ]
  },
  {
   "cell_type": "code",
   "execution_count": null,
   "id": "1dd23833-e0e7-4b0f-8de5-bf6ca38c6bb5",
   "metadata": {},
   "outputs": [],
   "source": [
    "print(phish_data.columns)\n"
   ]
  },
  {
   "cell_type": "code",
   "execution_count": null,
   "id": "0284e3aa-3f34-4c35-ac94-deea61aaa2c3",
   "metadata": {},
   "outputs": [],
   "source": [
    "print(phish_data.head())\n"
   ]
  },
  {
   "cell_type": "code",
   "execution_count": null,
   "id": "4b4bdc8b-b5d6-4f97-82c1-7434cfa03104",
   "metadata": {},
   "outputs": [],
   "source": [
    "print(phish_data['Label'].isnull().sum())  # Should be 0 after filling\n"
   ]
  },
  {
   "cell_type": "code",
   "execution_count": null,
   "id": "bb26e640-1bcd-4fc8-bc02-6d41cc82bd69",
   "metadata": {},
   "outputs": [],
   "source": [
    "print(phish_data['Label'].unique())  # Should show [1] or [0] depending on what you assigned\n"
   ]
  },
  {
   "cell_type": "code",
   "execution_count": null,
   "id": "dae5eed4-2dd7-4e16-9912-ec86af119961",
   "metadata": {},
   "outputs": [],
   "source": [
    "phish_data['Label'] = 1  # Assigning '1' for phishing URLs\n"
   ]
  },
  {
   "cell_type": "code",
   "execution_count": null,
   "id": "2f76fa0d-2e59-4f85-867a-e52b31bab3b6",
   "metadata": {},
   "outputs": [],
   "source": [
    "phish_data['Label'] = phish_data['URL'].str.contains('phish', case=False, na=False).astype(int)\n"
   ]
  },
  {
   "cell_type": "code",
   "execution_count": null,
   "id": "59acbca0-1a56-4955-a103-054b6d482efc",
   "metadata": {},
   "outputs": [],
   "source": [
    "# Check the first few rows to confirm the 'Label' column has been populated\n",
    "print(phish_data.head())\n",
    "\n",
    "# Check the unique values in the 'Label' column\n",
    "print(phish_data['Label'].unique())\n"
   ]
  },
  {
   "cell_type": "code",
   "execution_count": null,
   "id": "3e118d91-cd10-44ec-b9e8-ff37b1561b00",
   "metadata": {},
   "outputs": [],
   "source": [
    "# Display URLs with label 1 (those that contain \"phish\")\n",
    "print(phish_data[phish_data['Label'] == 1].head())\n"
   ]
  },
  {
   "cell_type": "code",
   "execution_count": null,
   "id": "f0bc6280-ca31-4127-be7d-ae22542c514f",
   "metadata": {},
   "outputs": [],
   "source": [
    "import pandas as pd\n",
    "from sklearn.model_selection import train_test_split\n",
    "from sklearn.feature_extraction.text import CountVectorizer\n",
    "from sklearn.linear_model import LogisticRegression\n",
    "from sklearn.metrics import accuracy_score\n",
    "\n",
    "# Load the dataset\n",
    "phish_data = pd.read_csv('phishing_site_urls.csv')  # Correct file path\n",
    "\n",
    "# If needed, ensure the 'Label' column is binary (0 or 1)\n",
    "phish_data['Label'] = phish_data['URL'].str.contains('phish', case=False, na=False).astype(int)\n",
    "\n",
    "# Initialize the CountVectorizer\n",
    "vectorizer = CountVectorizer(max_features=5000)\n",
    "\n",
    "# Vectorize the URLs\n",
    "X = vectorizer.fit_transform(phish_data['URL'])\n",
    "\n",
    "# Get the corresponding labels\n",
    "y = phish_data['Label']\n",
    "\n",
    "# Split the data into training and testing sets\n",
    "trainX, testX, trainY, testY = train_test_split(X, y, test_size=0.2, random_state=42)\n",
    "\n",
    "# Initialize the Logistic Regression model\n",
    "model = LogisticRegression()\n",
    "\n",
    "# Train the model\n",
    "model.fit(trainX, trainY)\n",
    "\n",
    "# Predict the labels for the test set\n",
    "predictions = model.predict(testX)\n",
    "\n",
    "# Calculate the accuracy of the model\n",
    "accuracy = accuracy_score(testY, predictions)\n",
    "print(f\"Accuracy: {accuracy * 100:.2f}%\")\n"
   ]
  },
  {
   "cell_type": "code",
   "execution_count": null,
   "id": "1f0d042b-5750-4997-9135-32786d83fd9f",
   "metadata": {},
   "outputs": [],
   "source": [
    "print(phish_data['Label'].value_counts())\n"
   ]
  },
  {
   "cell_type": "code",
   "execution_count": null,
   "id": "c5fd3423-71bb-473a-92cd-0d66a0796afb",
   "metadata": {},
   "outputs": [],
   "source": [
    "pip install imbalanced-learn\n"
   ]
  },
  {
   "cell_type": "code",
   "execution_count": null,
   "id": "a3e1715b-8f36-456a-a20e-1b22baef3042",
   "metadata": {},
   "outputs": [],
   "source": [
    "from imblearn.over_sampling import SMOTE\n",
    "\n",
    "# Apply SMOTE for oversampling the minority class\n",
    "smote = SMOTE()\n",
    "X_resampled, y_resampled = smote.fit_resample(X, y)\n",
    "\n",
    "print(f\"Resampled class distribution: {pd.Series(y_resampled).value_counts()}\")\n"
   ]
  },
  {
   "cell_type": "code",
   "execution_count": null,
   "id": "68e49cdb-108c-40e9-be8c-26ba5c4531ae",
   "metadata": {},
   "outputs": [],
   "source": [
    "from sklearn.model_selection import train_test_split\n",
    "from sklearn.linear_model import LogisticRegression\n",
    "from sklearn.metrics import accuracy_score, classification_report\n",
    "\n",
    "# Split the data into features and labels\n",
    "X_resampled = vectorizer.fit_transform(phish_data['URL'])  # Using CountVectorizer\n",
    "y_resampled = phish_data['Label']\n",
    "\n",
    "# Split the resampled data into training and testing sets\n",
    "X_train, X_test, y_train, y_test = train_test_split(X_resampled, y_resampled, test_size=0.2, random_state=42)\n",
    "\n",
    "# Initialize and train a Logistic Regression model\n",
    "lr = LogisticRegression(max_iter=1000)\n",
    "lr.fit(X_train, y_train)\n",
    "\n",
    "# Predict on the test set\n",
    "y_pred = lr.predict(X_test)\n",
    "\n",
    "# Evaluate the model\n",
    "accuracy = accuracy_score(y_test, y_pred)\n",
    "print(f'Accuracy: {accuracy * 100:.2f}%')\n",
    "\n",
    "# Show classification report\n",
    "print(classification_report(y_test, y_pred))\n"
   ]
  },
  {
   "cell_type": "code",
   "execution_count": null,
   "id": "3e7076a0-98c8-49bc-98c7-99e5bf1c30f2",
   "metadata": {},
   "outputs": [],
   "source": [
    "print(X_train.shape)  # Check the shape of training features\n",
    "print(y_train.shape)  # Check the shape of training labels\n"
   ]
  },
  {
   "cell_type": "code",
   "execution_count": null,
   "id": "f5d0fe6a-c777-4446-8de5-815d5469bfce",
   "metadata": {},
   "outputs": [],
   "source": [
    "print(f'X_test shape: {X_test.shape}')\n",
    "print(f'y_test shape: {y_test.shape}')\n"
   ]
  },
  {
   "cell_type": "code",
   "execution_count": null,
   "id": "c2bf9513-66c0-48e5-9490-f651bb541a90",
   "metadata": {},
   "outputs": [],
   "source": [
    "from sklearn.ensemble import RandomForestClassifier\n",
    "\n",
    "# Initialize and train the RandomForestClassifier with balanced class weights\n",
    "rf = RandomForestClassifier(n_estimators=100, random_state=42, class_weight='balanced', verbose=2)\n",
    "rf.fit(X_train, y_train)\n",
    "\n",
    "# Predict on the test set\n",
    "y_pred = rf.predict(X_test)\n",
    "\n",
    "# Evaluate the model\n",
    "accuracy = accuracy_score(y_test, y_pred)\n",
    "print(f'Accuracy: {accuracy * 100:.2f}%')\n",
    "\n",
    "# Show classification report\n",
    "print(classification_report(y_test, y_pred))\n",
    "\n"
   ]
  },
  {
   "cell_type": "code",
   "execution_count": null,
   "id": "4c118bb7-2b9a-4ab5-ad3a-81691a538ec0",
   "metadata": {},
   "outputs": [],
   "source": [
    "from imblearn.over_sampling import SMOTE\n",
    "from sklearn.ensemble import RandomForestClassifier\n",
    "from sklearn.metrics import accuracy_score, classification_report\n",
    "\n",
    "# Apply SMOTE for oversampling the minority class\n",
    "smote = SMOTE(sampling_strategy='auto', random_state=42)\n",
    "X_res, y_res = smote.fit_resample(X_train, y_train)\n",
    "\n",
    "# Initialize and train the RandomForestClassifier with balanced class weights\n",
    "rf = RandomForestClassifier(n_estimators=100, random_state=42, class_weight='balanced', max_depth=10, n_jobs=-1)\n",
    "rf.fit(X_res, y_res)\n",
    "\n",
    "# Predict on the test set\n",
    "y_pred = rf.predict(X_test)\n",
    "\n",
    "# Evaluate the model\n",
    "accuracy = accuracy_score(y_test, y_pred)\n",
    "print(f'Accuracy: {accuracy * 100:.2f}%')\n",
    "\n",
    "# Show classification report\n",
    "print(classification_report(y_test, y_pred))\n"
   ]
  },
  {
   "cell_type": "code",
   "execution_count": null,
   "id": "4406e6fc-3afe-46c5-b965-38d478241615",
   "metadata": {},
   "outputs": [],
   "source": [
    "from sklearn.ensemble import RandomForestClassifier\n",
    "from sklearn.metrics import accuracy_score, classification_report\n",
    "\n",
    "# Initialize and train the RandomForestClassifier with adjusted class weights\n",
    "rf = RandomForestClassifier(n_estimators=200, random_state=42, class_weight={0: 1, 1: 50}, max_depth=10, n_jobs=-1)\n",
    "rf.fit(X_res, y_res)\n",
    "\n",
    "# Predict probabilities\n",
    "y_probs = rf.predict_proba(X_test)[:, 1]\n",
    "\n",
    "# Apply a threshold of 0.3 instead of 0.5 to increase recall for the minority class\n",
    "y_pred = (y_probs > 0.3).astype(int)\n",
    "\n",
    "# Evaluate the model\n",
    "accuracy = accuracy_score(y_test, y_pred)\n",
    "print(f'Accuracy: {accuracy * 100:.2f}%')\n",
    "\n",
    "# Show classification report\n",
    "print(classification_report(y_test, y_pred))\n"
   ]
  },
  {
   "cell_type": "code",
   "execution_count": null,
   "id": "d9c17a19-4407-454f-98bf-bc2635e49528",
   "metadata": {},
   "outputs": [],
   "source": [
    "from sklearn.model_selection import cross_val_score\n",
    "from sklearn.ensemble import RandomForestClassifier\n",
    "from sklearn.metrics import accuracy_score, classification_report\n",
    "\n",
    "# Initialize RandomForest with balanced class weights and max_depth to avoid overfitting\n",
    "rf = RandomForestClassifier(n_estimators=100, random_state=42, class_weight='balanced', max_depth=10, n_jobs=-1)\n",
    "\n",
    "# Use cross-validation to better estimate performance\n",
    "cv_scores = cross_val_score(rf, X_res, y_res, cv=5, scoring='accuracy')\n",
    "\n",
    "# Train the model on the whole dataset for final evaluation\n",
    "rf.fit(X_res, y_res)\n",
    "\n",
    "# Predict probabilities and adjust the threshold\n",
    "y_probs = rf.predict_proba(X_test)[:, 1]\n",
    "y_pred = (y_probs > 0.2).astype(int)  # Adjust threshold as necessary\n",
    "\n",
    "# Evaluate the model\n",
    "accuracy = accuracy_score(y_test, y_pred)\n",
    "print(f'Accuracy: {accuracy * 100:.2f}%')\n",
    "\n",
    "# Show classification report\n",
    "print(classification_report(y_test, y_pred))\n",
    "\n",
    "# Print cross-validation results\n",
    "print(f'Cross-validation accuracy scores: {cv_scores}')\n",
    "print(f'Mean CV accuracy: {cv_scores.mean() * 100:.2f}%')\n"
   ]
  },
  {
   "cell_type": "code",
   "execution_count": null,
   "id": "d03981fb-6f2b-47f4-a6fe-c3df361dc8d6",
   "metadata": {},
   "outputs": [],
   "source": [
    "param_grid = {\n",
    "    'n_estimators': [50, 100],  # Start with fewer trees\n",
    "    'max_depth': [10, None],     # Limit the depth of trees\n",
    "    'class_weight': ['balanced']  # Test class_weight\n",
    "}\n"
   ]
  },
  {
   "cell_type": "code",
   "execution_count": null,
   "id": "6832e458-b404-474e-aacc-0eb464c85a17",
   "metadata": {},
   "outputs": [],
   "source": []
  },
  {
   "cell_type": "code",
   "execution_count": null,
   "id": "c580d405-7705-4eab-9810-d7696390cee3",
   "metadata": {},
   "outputs": [],
   "source": []
  }
 ],
 "metadata": {
  "kernelspec": {
   "display_name": "Python 3 (ipykernel)",
   "language": "python",
   "name": "python3"
  },
  "language_info": {
   "codemirror_mode": {
    "name": "ipython",
    "version": 3
   },
   "file_extension": ".py",
   "mimetype": "text/x-python",
   "name": "python",
   "nbconvert_exporter": "python",
   "pygments_lexer": "ipython3",
   "version": "3.13.0"
  }
 },
 "nbformat": 4,
 "nbformat_minor": 5
}
